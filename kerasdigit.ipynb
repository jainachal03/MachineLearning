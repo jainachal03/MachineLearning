{
 "cells": [
  {
   "cell_type": "code",
   "execution_count": 48,
   "id": "f0283a32",
   "metadata": {},
   "outputs": [],
   "source": [
    "import tensorflow as tf \n",
    "import numpy as np\n",
    "import os"
   ]
  },
  {
   "cell_type": "code",
   "execution_count": 49,
   "id": "33b92165",
   "metadata": {},
   "outputs": [],
   "source": [
    "(x_train, y_train), (x_test, y_test) = tf.keras.datasets.mnist.load_data()\n",
    "assert x_train.shape == (60000, 28, 28)\n",
    "assert x_test.shape == (10000, 28, 28)\n",
    "assert y_train.shape == (60000,)\n",
    "assert y_test.shape == (10000,)"
   ]
  },
  {
   "cell_type": "code",
   "execution_count": 50,
   "id": "c75b9dae",
   "metadata": {},
   "outputs": [],
   "source": [
    "n_input = 784  # input layer (28x28 pixels)\n",
    "n_classes = 10  # output layer (0-9 digits)"
   ]
  },
  {
   "cell_type": "code",
   "execution_count": 52,
   "id": "97422468",
   "metadata": {},
   "outputs": [],
   "source": [
    "learning_rate = 1e-4\n",
    "n_iterations = 1000\n",
    "batch_size = 128\n",
    "dropout = 0.5"
   ]
  },
  {
   "cell_type": "code",
   "execution_count": 53,
   "id": "8f5235f9",
   "metadata": {},
   "outputs": [],
   "source": [
    "from keras.models import Sequential, load_model\n",
    "from keras.layers.core import Dense, Dropout, Activation\n",
    "from keras.utils import np_utils"
   ]
  },
  {
   "cell_type": "code",
   "execution_count": 54,
   "id": "7ec629d4",
   "metadata": {},
   "outputs": [],
   "source": [
    "x_train = x_train.reshape(60000, 784)\n",
    "x_test = x_test.reshape(10000, 784)\n",
    "x_train = x_train.astype('float32')\n",
    "x_test = x_test.astype('float32')\n",
    "x_train = x_train/255\n",
    "x_test = x_test/255\n",
    "y_train = np_utils.to_categorical(y_train, n_classes)\n",
    "y_test = np_utils.to_categorical(y_test, n_classes)\n"
   ]
  },
  {
   "cell_type": "code",
   "execution_count": 55,
   "id": "5df6803e",
   "metadata": {},
   "outputs": [],
   "source": [
    "model = Sequential()\n",
    "model.add(Dense(512, input_shape=(784,)))\n",
    "model.add(Activation('relu'))                            \n",
    "model.add(Dropout(0.2))\n",
    "\n",
    "model.add(Dense(512))\n",
    "model.add(Activation('relu'))\n",
    "model.add(Dropout(0.2))\n",
    "\n",
    "model.add(Dense(10))\n",
    "model.add(Activation('softmax'))"
   ]
  },
  {
   "cell_type": "code",
   "execution_count": 56,
   "id": "9332ef5d",
   "metadata": {},
   "outputs": [],
   "source": [
    "model.compile(loss='categorical_crossentropy', metrics=['accuracy'], optimizer='adam')"
   ]
  },
  {
   "cell_type": "code",
   "execution_count": null,
   "id": "7a05db10",
   "metadata": {},
   "outputs": [
    {
     "name": "stdout",
     "output_type": "stream",
     "text": [
      "Epoch 1/20\n",
      "469/469 - 3s - loss: 0.2473 - accuracy: 0.9248 - val_loss: 0.0989 - val_accuracy: 0.9678 - 3s/epoch - 7ms/step\n",
      "Epoch 2/20\n",
      "469/469 - 3s - loss: 0.1006 - accuracy: 0.9690 - val_loss: 0.0742 - val_accuracy: 0.9779 - 3s/epoch - 5ms/step\n",
      "Epoch 3/20\n",
      "469/469 - 3s - loss: 0.0717 - accuracy: 0.9773 - val_loss: 0.0664 - val_accuracy: 0.9799 - 3s/epoch - 6ms/step\n",
      "Epoch 4/20\n",
      "469/469 - 3s - loss: 0.0558 - accuracy: 0.9819 - val_loss: 0.0651 - val_accuracy: 0.9783 - 3s/epoch - 6ms/step\n",
      "Epoch 5/20\n",
      "469/469 - 3s - loss: 0.0461 - accuracy: 0.9854 - val_loss: 0.0693 - val_accuracy: 0.9798 - 3s/epoch - 6ms/step\n",
      "Epoch 6/20\n",
      "469/469 - 3s - loss: 0.0409 - accuracy: 0.9866 - val_loss: 0.0622 - val_accuracy: 0.9818 - 3s/epoch - 6ms/step\n",
      "Epoch 7/20\n",
      "469/469 - 3s - loss: 0.0336 - accuracy: 0.9887 - val_loss: 0.0620 - val_accuracy: 0.9819 - 3s/epoch - 5ms/step\n",
      "Epoch 8/20\n",
      "469/469 - 3s - loss: 0.0299 - accuracy: 0.9896 - val_loss: 0.0644 - val_accuracy: 0.9829 - 3s/epoch - 5ms/step\n",
      "Epoch 9/20\n"
     ]
    }
   ],
   "source": [
    "history = model.fit(x_train, y_train,\n",
    "          batch_size=128, epochs=20,\n",
    "          verbose=2,\n",
    "          validation_data=(x_test, y_test))\n",
    "\n",
    "# saving the model\n",
    "save_dir = \"/results/\"\n",
    "model_name = 'keras_mnist.h5'\n",
    "model_path = os.path.join(save_dir, model_name)\n",
    "model.save(model_path)\n",
    "print('Saved trained model at %s ' % model_path)\n",
    "\n"
   ]
  },
  {
   "cell_type": "code",
   "execution_count": null,
   "id": "353b2931",
   "metadata": {},
   "outputs": [],
   "source": []
  }
 ],
 "metadata": {
  "kernelspec": {
   "display_name": "Python 3 (ipykernel)",
   "language": "python",
   "name": "python3"
  },
  "language_info": {
   "codemirror_mode": {
    "name": "ipython",
    "version": 3
   },
   "file_extension": ".py",
   "mimetype": "text/x-python",
   "name": "python",
   "nbconvert_exporter": "python",
   "pygments_lexer": "ipython3",
   "version": "3.10.8"
  }
 },
 "nbformat": 4,
 "nbformat_minor": 5
}
